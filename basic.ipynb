{
 "cells": [
  {
   "cell_type": "markdown",
   "id": "cdb9f2ee",
   "metadata": {},
   "source": [
    "### Running Print Statement"
   ]
  },
  {
   "cell_type": "code",
   "execution_count": 3,
   "id": "ad9ea2a1",
   "metadata": {},
   "outputs": [
    {
     "name": "stdout",
     "output_type": "stream",
     "text": [
      "Yogender\n"
     ]
    }
   ],
   "source": [
    "print(\"Yogender\")"
   ]
  },
  {
   "cell_type": "code",
   "execution_count": null,
   "id": "571993c9",
   "metadata": {},
   "outputs": [],
   "source": []
  }
 ],
 "metadata": {
  "kernelspec": {
   "display_name": ".venv",
   "language": "python",
   "name": "python3"
  },
  "language_info": {
   "codemirror_mode": {
    "name": "ipython",
    "version": 3
   },
   "file_extension": ".py",
   "mimetype": "text/x-python",
   "name": "python",
   "nbconvert_exporter": "python",
   "pygments_lexer": "ipython3",
   "version": "3.13.7"
  }
 },
 "nbformat": 4,
 "nbformat_minor": 5
}
