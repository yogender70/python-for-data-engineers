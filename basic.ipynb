{
 "cells": [
  {
   "cell_type": "markdown",
   "id": "cdb9f2ee",
   "metadata": {},
   "source": [
    "### Running Print Statement"
   ]
  },
  {
   "cell_type": "code",
   "execution_count": 40,
   "id": "ad9ea2a1",
   "metadata": {},
   "outputs": [
    {
     "name": "stdout",
     "output_type": "stream",
     "text": [
      "Yogender\n"
     ]
    }
   ],
   "source": [
    "print(\"Yogender\")"
   ]
  },
  {
   "cell_type": "code",
   "execution_count": 41,
   "id": "571993c9",
   "metadata": {},
   "outputs": [
    {
     "name": "stdout",
     "output_type": "stream",
     "text": [
      "this is example\n"
     ]
    }
   ],
   "source": [
    "print(\"this is example\")"
   ]
  },
  {
   "cell_type": "code",
   "execution_count": 42,
   "id": "cc359059",
   "metadata": {},
   "outputs": [],
   "source": [
    "x=10"
   ]
  },
  {
   "cell_type": "code",
   "execution_count": 43,
   "id": "8cced679",
   "metadata": {},
   "outputs": [
    {
     "name": "stdout",
     "output_type": "stream",
     "text": [
      "<class 'int'>\n"
     ]
    }
   ],
   "source": [
    "age = 30\n",
    "employees = 320\n",
    "print (type(age))"
   ]
  },
  {
   "cell_type": "code",
   "execution_count": 44,
   "id": "ec0cbd3d",
   "metadata": {},
   "outputs": [
    {
     "name": "stdout",
     "output_type": "stream",
     "text": [
      "<class 'float'>\n"
     ]
    }
   ],
   "source": [
    "price = 99.99\n",
    "tax_rate = 0.18\n",
    "print (type(price))"
   ]
  },
  {
   "cell_type": "code",
   "execution_count": 45,
   "id": "56d31d57",
   "metadata": {},
   "outputs": [
    {
     "name": "stdout",
     "output_type": "stream",
     "text": [
      "<class 'str'>\n"
     ]
    }
   ],
   "source": [
    "name = \"Yogender Kumar\"\n",
    "city = 'Mahendergarh'\n",
    "print(type(name))"
   ]
  },
  {
   "cell_type": "code",
   "execution_count": 46,
   "id": "2bd94cab",
   "metadata": {},
   "outputs": [
    {
     "name": "stdout",
     "output_type": "stream",
     "text": [
      "Hello Yogender Kumar\n"
     ]
    }
   ],
   "source": [
    "full_text = \"Hello \" + name\n",
    "print(full_text)"
   ]
  },
  {
   "cell_type": "code",
   "execution_count": 47,
   "id": "cd001738",
   "metadata": {},
   "outputs": [
    {
     "name": "stdout",
     "output_type": "stream",
     "text": [
      "My name is Yogender Kumar and I am 30 years old.\n"
     ]
    }
   ],
   "source": [
    "age = 30\n",
    "print(f\"My name is {name} and I am {age} years old.\")"
   ]
  },
  {
   "cell_type": "code",
   "execution_count": 48,
   "id": "99ee584a",
   "metadata": {},
   "outputs": [
    {
     "name": "stdout",
     "output_type": "stream",
     "text": [
      "<class 'bool'>\n"
     ]
    }
   ],
   "source": [
    "is_active = True\n",
    "is_admin = False\n",
    "print(type(is_active))"
   ]
  },
  {
   "cell_type": "code",
   "execution_count": 49,
   "id": "58c4255c",
   "metadata": {},
   "outputs": [
    {
     "name": "stdout",
     "output_type": "stream",
     "text": [
      "User is active\n"
     ]
    }
   ],
   "source": [
    "if is_active: \n",
    "    print(\"User is active\")\n",
    "else:\n",
    "    print(\"User is inactive\")"
   ]
  },
  {
   "cell_type": "code",
   "execution_count": 50,
   "id": "9dcd5efd",
   "metadata": {},
   "outputs": [],
   "source": [
    "x, y, z = 10, 20, 30\n",
    "a = b = c = 0"
   ]
  },
  {
   "cell_type": "code",
   "execution_count": 51,
   "id": "c68404fa",
   "metadata": {},
   "outputs": [],
   "source": [
    "x = \"100\"\n",
    "y = int(x)\n",
    "z = float(y)\n",
    "t = str(z)"
   ]
  },
  {
   "cell_type": "code",
   "execution_count": 52,
   "id": "355f37a1",
   "metadata": {},
   "outputs": [
    {
     "name": "stdout",
     "output_type": "stream",
     "text": [
      "My name is Yogender Kumar and I am 30 years old.\n"
     ]
    }
   ],
   "source": [
    "name = \"Yogender Kumar\"\n",
    "age = 30\n",
    "salary = 11.8\n",
    "is_full_time = True\n",
    "\n",
    "print(f\"My name is {name} and I am {age} years old.\")"
   ]
  },
  {
   "cell_type": "code",
   "execution_count": 53,
   "id": "465a02ad",
   "metadata": {},
   "outputs": [
    {
     "name": "stdout",
     "output_type": "stream",
     "text": [
      "True\n",
      "False\n"
     ]
    }
   ],
   "source": [
    "a =5\n",
    "b =5\n",
    "c = 7\n",
    "print(a == b)\n",
    "print(a == c)"
   ]
  },
  {
   "cell_type": "code",
   "execution_count": 54,
   "id": "c50b1f75",
   "metadata": {},
   "outputs": [
    {
     "name": "stdout",
     "output_type": "stream",
     "text": [
      "<class 'str'>\n",
      "499.99\n",
      "My name is Ravi and my age is 28 and I am married is False. My hight is 5.75. I live in Mahendergarh District, India and my pincode is 123039\n"
     ]
    }
   ],
   "source": [
    "age = 28\n",
    "price = 499.99\n",
    "name = \"Ravi\"\n",
    "a = 5\n",
    "b = 7\n",
    "c = 123 \n",
    "C = int(c)\n",
    "is_married = False\n",
    "hight = 5.75\n",
    "age = str(age)\n",
    "x = y = z = 100\n",
    "city, country, pincode = \"Mahendergarh\", \"India\", 123039\n",
    "\n",
    "print (type(age))\n",
    "print(price)\n",
    "print(f\"My name is {name} and my age is {age} and I am married is {is_married}. My hight is {hight}. I live in {city} District, {country} and my pincode is {pincode}\")\n",
    "\n",
    "\n"
   ]
  },
  {
   "cell_type": "code",
   "execution_count": 55,
   "id": "bc7d176d",
   "metadata": {},
   "outputs": [
    {
     "ename": "TypeError",
     "evalue": "can only concatenate str (not \"int\") to str",
     "output_type": "error",
     "traceback": [
      "\u001b[31m---------------------------------------------------------------------------\u001b[39m",
      "\u001b[31mTypeError\u001b[39m                                 Traceback (most recent call last)",
      "\u001b[36mCell\u001b[39m\u001b[36m \u001b[39m\u001b[32mIn[55]\u001b[39m\u001b[32m, line 4\u001b[39m\n\u001b[32m      1\u001b[39m x = \u001b[33m\"\u001b[39m\u001b[33m10\u001b[39m\u001b[33m\"\u001b[39m \u001b[38;5;66;03m#we need to remove double inberted commas if we have to resolve this issue\u001b[39;00m\n\u001b[32m      2\u001b[39m y = \u001b[32m5\u001b[39m\n\u001b[32m----> \u001b[39m\u001b[32m4\u001b[39m \u001b[38;5;28mprint\u001b[39m(\u001b[43mx\u001b[49m\u001b[43m+\u001b[49m\u001b[43my\u001b[49m)\n",
      "\u001b[31mTypeError\u001b[39m: can only concatenate str (not \"int\") to str"
     ]
    }
   ],
   "source": [
    "x = \"10\" #we need to remove double inberted commas if we have to resolve this issue\n",
    "y = 5\n",
    "\n",
    "print(x+y)"
   ]
  },
  {
   "cell_type": "code",
   "execution_count": null,
   "id": "8aa14af4",
   "metadata": {},
   "outputs": [
    {
     "name": "stdout",
     "output_type": "stream",
     "text": [
      "10\n"
     ]
    }
   ],
   "source": [
    "float_number = 10.5\n",
    "float_number = int(float_number)\n",
    "\n",
    "print (float_number)"
   ]
  },
  {
   "cell_type": "code",
   "execution_count": null,
   "id": "2c9f174f",
   "metadata": {},
   "outputs": [
    {
     "name": "stdout",
     "output_type": "stream",
     "text": [
      "1\n"
     ]
    }
   ],
   "source": [
    "boolean_value = True\n",
    "integer_value = int(boolean_value)\n",
    "\n",
    "print(integer_value)"
   ]
  },
  {
   "cell_type": "code",
   "execution_count": null,
   "id": "c536e101",
   "metadata": {},
   "outputs": [],
   "source": [
    "#when 0 is converted into boolean it will print false because 1 represents true and 0 represents false\n"
   ]
  },
  {
   "cell_type": "code",
   "execution_count": null,
   "id": "e6fd0a24",
   "metadata": {},
   "outputs": [
    {
     "name": "stdout",
     "output_type": "stream",
     "text": [
      "True\n",
      "False\n"
     ]
    }
   ],
   "source": [
    "a = 10\n",
    "b = 10.0\n",
    "\n",
    "print(a==b)\n",
    "print(type(a)==type(b))"
   ]
  },
  {
   "cell_type": "code",
   "execution_count": null,
   "id": "e3d05792",
   "metadata": {},
   "outputs": [
    {
     "name": "stdout",
     "output_type": "stream",
     "text": [
      "13\n"
     ]
    }
   ],
   "source": [
    "sentence = \"python is fun\"\n",
    "\n",
    "#character_count = len(sentence)\n",
    "\n",
    "#print(character_count)\n",
    "\n",
    "print(len(sentence))\n"
   ]
  },
  {
   "cell_type": "code",
   "execution_count": null,
   "id": "f09b8d5e",
   "metadata": {},
   "outputs": [
    {
     "name": "stdout",
     "output_type": "stream",
     "text": [
      "2.5\n"
     ]
    }
   ],
   "source": [
    "x, y = 5, 2\n",
    "\n",
    "print(x/y)"
   ]
  },
  {
   "cell_type": "code",
   "execution_count": null,
   "id": "6fd1f9fb",
   "metadata": {},
   "outputs": [
    {
     "name": "stdout",
     "output_type": "stream",
     "text": [
      "The Price of one apple is 25.5 and the total for 4 apples is 102.0\n"
     ]
    }
   ],
   "source": [
    "apple_price = 25.5\n",
    "number_of_apples = 4\n",
    "\n",
    "print(f\"The Price of one apple is {apple_price} and the total for {number_of_apples} apples is {number_of_apples * apple_price}\")\n"
   ]
  },
  {
   "cell_type": "code",
   "execution_count": null,
   "id": "a52b5522",
   "metadata": {},
   "outputs": [
    {
     "name": "stdout",
     "output_type": "stream",
     "text": [
      "ten\n"
     ]
    }
   ],
   "source": [
    "x = 10\n",
    "x = \"ten\"\n",
    "\n",
    "print (x)"
   ]
  },
  {
   "cell_type": "code",
   "execution_count": null,
   "id": "7e6da4d7",
   "metadata": {},
   "outputs": [
    {
     "name": "stdout",
     "output_type": "stream",
     "text": [
      "56\n",
      "11\n"
     ]
    }
   ],
   "source": [
    "a = \"5\"\n",
    "b = \"6\"\n",
    "\n",
    "print(a + b)\n",
    "print (int(a) + int(b))"
   ]
  },
  {
   "cell_type": "markdown",
   "id": "d74e6653",
   "metadata": {},
   "source": [
    "Day 1: Python Basics for Data Work"
   ]
  },
  {
   "cell_type": "markdown",
   "id": "f9204430",
   "metadata": {},
   "source": [
    "Tuples, Sets, Dictionaries"
   ]
  },
  {
   "cell_type": "code",
   "execution_count": 57,
   "id": "4078b515",
   "metadata": {},
   "outputs": [
    {
     "name": "stdout",
     "output_type": "stream",
     "text": [
      "apple\n",
      "mango\n"
     ]
    }
   ],
   "source": [
    "fruits = [\"apple\", \"banana\", \"mango\"]\n",
    "\n",
    "print(fruits [0])\n",
    "\n",
    "print(fruits[-1])"
   ]
  },
  {
   "cell_type": "code",
   "execution_count": 76,
   "id": "5fadef83",
   "metadata": {},
   "outputs": [
    {
     "name": "stdout",
     "output_type": "stream",
     "text": [
      "kiwi\n",
      "grapes\n",
      "mango\n",
      "3\n"
     ]
    }
   ],
   "source": [
    "fruits = [\"apple\", \"banana\", \"mango\"]\n",
    "\n",
    "fruits[1] = \"grapes\"\n",
    "\n",
    "fruits.append(\"orange\")\n",
    "fruits.insert(1,\"kiwi\")\n",
    "\n",
    "fruits.remove(\"apple\")\n",
    "popped = fruits.pop()\n",
    "\n",
    "for fruit in fruits:\n",
    "    print(fruit)  \n",
    "\n",
    "print(len(fruits))"
   ]
  },
  {
   "cell_type": "code",
   "execution_count": 87,
   "id": "76431120",
   "metadata": {},
   "outputs": [
    {
     "name": "stdout",
     "output_type": "stream",
     "text": [
      "11\n"
     ]
    }
   ],
   "source": [
    "letters = [\"a\", \"b\", \"C\"]\n",
    "matrix = [[0, 1], [2,3]]\n",
    "zeros = [0] * 5\n",
    "combined = zeros + letters\n",
    "numbers = list(range(21))\n",
    "chars = list(\"Hello World\")\n",
    "print(len(chars))\n"
   ]
  },
  {
   "cell_type": "code",
   "execution_count": 96,
   "id": "6c8f8628",
   "metadata": {},
   "outputs": [
    {
     "name": "stdout",
     "output_type": "stream",
     "text": [
      "['A', 'b', 'C']\n",
      "['A', 'C']\n"
     ]
    }
   ],
   "source": [
    "letters = [\"a\", \"b\", \"C\", \"d\"]\n",
    "letters[0] = \"A\"\n",
    "print(letters[0:3])\n",
    "print(letters[::2])\n",
    "\n"
   ]
  },
  {
   "cell_type": "code",
   "execution_count": 103,
   "id": "b44e0ecf",
   "metadata": {},
   "outputs": [
    {
     "name": "stdout",
     "output_type": "stream",
     "text": [
      "[19, 18, 17, 16, 15, 14, 13, 12, 11, 10, 9, 8, 7, 6, 5, 4, 3, 2, 1, 0]\n"
     ]
    }
   ],
   "source": [
    "numbers = list(range(20))\n",
    "print(numbers[::-1])"
   ]
  },
  {
   "cell_type": "code",
   "execution_count": 111,
   "id": "9f353bb1",
   "metadata": {},
   "outputs": [
    {
     "name": "stdout",
     "output_type": "stream",
     "text": [
      "1 6\n",
      "[3, 4, 5]\n"
     ]
    }
   ],
   "source": [
    "numbers = [1, 2, 3, 4, 5, 6]\n",
    "first, second, *other, last = numbers\n",
    "\n",
    "print(first,last)\n",
    "print(other)\n",
    "\n"
   ]
  },
  {
   "cell_type": "code",
   "execution_count": 116,
   "id": "c3161870",
   "metadata": {},
   "outputs": [
    {
     "name": "stdout",
     "output_type": "stream",
     "text": [
      "28.6139\n",
      "123\n",
      "2\n"
     ]
    }
   ],
   "source": [
    "coordinates = (28.6139, 772090)\n",
    "print(coordinates[0])\n",
    "print(c)\n",
    "print(len(coordinates))"
   ]
  },
  {
   "cell_type": "markdown",
   "id": "3c699eb2",
   "metadata": {},
   "source": [
    "Sets → Unordered, No Duplicates"
   ]
  },
  {
   "cell_type": "code",
   "execution_count": 123,
   "id": "b8d5e904",
   "metadata": {},
   "outputs": [
    {
     "name": "stdout",
     "output_type": "stream",
     "text": [
      "{'Hydrabad', 'Chennai', 'chandigarh', 'Delhi'}\n",
      "{'Delhi'}\n",
      "{'chandigarh'}\n",
      "{'chennai', 'Mumbai', 'Delhi'}\n"
     ]
    }
   ],
   "source": [
    "cities ={\"Delhi\", \"Mumbai\", \"Pune\", \"Delhi\"}\n",
    "\n",
    "#add / remove\n",
    "\n",
    "cities.add(\"chennai\")\n",
    "cities.remove(\"Pune\")\n",
    "\n",
    "#Union, Intersection, Difference\n",
    "\n",
    "north = {\"Delhi\", \"chandigarh\"}\n",
    "south = {\"Chennai\", \"Hydrabad\"}\n",
    "\n",
    "print(north.union(south))\n",
    "print(north.intersection(cities))\n",
    "print(north.difference(cities))\n",
    "print(cities)"
   ]
  },
  {
   "cell_type": "code",
   "execution_count": 130,
   "id": "4b18be11",
   "metadata": {},
   "outputs": [
    {
     "name": "stdout",
     "output_type": "stream",
     "text": [
      "Yogender Kumar\n",
      "Data Engineer\n",
      "name : Yogender Kumar\n",
      "experience : 6\n",
      "skills : ['Python', 'ETL', 'Databricks']\n",
      "Skills are defined\n",
      "3\n"
     ]
    }
   ],
   "source": [
    "person = {\n",
    "    \"name\": \"Yogender Kumar\",\n",
    "    \"role\" : \"Data Engineer\",\n",
    "    \"experience\" : 5\n",
    "}\n",
    "\n",
    "print(person[\"name\"])\n",
    "print(person.get(\"role\"))\n",
    "\n",
    "person[\"skills\"] = [\"Python\", \"ETL\", \"Databricks\"]\n",
    "person[\"experience\"] = 6\n",
    "\n",
    "person.pop(\"role\")\n",
    "           \n",
    "for key, value in person.items():\n",
    "    print(key, \":\", value)\n",
    "\n",
    "if \"skills\" in person:\n",
    "    print(\"Skills are defined\")\n",
    "\n",
    "    print(len(person))"
   ]
  },
  {
   "cell_type": "code",
   "execution_count": 135,
   "id": "e75cf544",
   "metadata": {},
   "outputs": [
    {
     "name": "stdout",
     "output_type": "stream",
     "text": [
      "Riya Pune\n",
      "Amit Delhi\n"
     ]
    }
   ],
   "source": [
    "employees = [\n",
    "    {\"name\": \"Riya\", \"age\": 25, \"city\": \"Pune\"},\n",
    "    {\"name\": \"Amit\", \"age\":30, \"city\": \"Delhi\"},\n",
    "]\n",
    "for emp in employees:\n",
    "    print(emp[\"name\"], emp[\"city\"])"
   ]
  },
  {
   "cell_type": "markdown",
   "id": "e1326887",
   "metadata": {},
   "source": [
    "Practice Tasks"
   ]
  },
  {
   "cell_type": "code",
   "execution_count": 137,
   "id": "8ffb8a76",
   "metadata": {},
   "outputs": [
    {
     "name": "stdout",
     "output_type": "stream",
     "text": [
      "List after removing 3: [1, 2, 4, 5, 6, 7]\n"
     ]
    }
   ],
   "source": [
    "numbers = [1, 2, 3, 4, 5]\n",
    "\n",
    "numbers.append(6)\n",
    "numbers.append(7)\n",
    "\n",
    "numbers.remove(3)\n",
    "\n",
    "print(f\"List after removing 3: {numbers}\")"
   ]
  },
  {
   "cell_type": "code",
   "execution_count": 141,
   "id": "010016aa",
   "metadata": {},
   "outputs": [
    {
     "name": "stdout",
     "output_type": "stream",
     "text": [
      "All Coordinates: [15.5, 77.5, 45.3]\n"
     ]
    }
   ],
   "source": [
    "coordinates = [12.9, 77.5, 45.3]\n",
    "coordinates[0] = 15.5\n",
    "print(f\"All Coordinates: {coordinates}\")"
   ]
  },
  {
   "cell_type": "code",
   "execution_count": 147,
   "id": "babc007e",
   "metadata": {},
   "outputs": [
    {
     "name": "stdout",
     "output_type": "stream",
     "text": [
      "1. Unique IDs(the set itself): {104, 101, 102, 103}\n",
      "2. IDs after adding 105: {101, 102, 103, 104, 105}\n",
      "3. Intersection with {103, 106, 107}: {105}\n"
     ]
    }
   ],
   "source": [
    "data_ids = {101, 102, 103, 102, 104}\n",
    "other_ids = {105, 106, 107}\n",
    "\n",
    "print(f\"1. Unique IDs(the set itself): {data_ids}\")\n",
    "\n",
    "data_ids.add(105)\n",
    "\n",
    "print(f\"2. IDs after adding 105: {data_ids}\")\n",
    "\n",
    "intersection_result = data_ids.intersection(other_ids)\n",
    "print(f\"3. Intersection with {{103, 106, 107}}: {intersection_result}\")"
   ]
  },
  {
   "cell_type": "code",
   "execution_count": 154,
   "id": "233f68f0",
   "metadata": {},
   "outputs": [
    {
     "name": "stdout",
     "output_type": "stream",
     "text": [
      "Students who scored above 80:\n",
      "Riya\n",
      "Neha\n"
     ]
    }
   ],
   "source": [
    "students = [\n",
    "    {\"name\": \"Riya\", \"marks\":90},\n",
    "    {\"name\": \"Amit\", \"marks\":75},\n",
    "    {\"name\": \"Neha\", \"marks\":85}\n",
    "]\n",
    "\n",
    "print(\"Students who scored above 80:\")\n",
    "\n",
    "for student in students:\n",
    "    if student[\"marks\"] > 80:\n",
    "        print(student[\"name\"])"
   ]
  },
  {
   "cell_type": "code",
   "execution_count": 157,
   "id": "485eb2a9",
   "metadata": {},
   "outputs": [
    {
     "name": "stdout",
     "output_type": "stream",
     "text": [
      "|Riya      |   95|\n",
      "|   Riya   | 95  |\n"
     ]
    }
   ],
   "source": [
    "name = \"Riya\"\n",
    "score = 95\n",
    "\n",
    "# left aligned, right aligned, centered\n",
    "print(f\"|{name:<10}|{score:>5}|\")  # |Riya      |   95|\n",
    "print(f\"|{name:^10}|{score:^5}|\")  # |   Riya   |  95 |\n"
   ]
  },
  {
   "cell_type": "code",
   "execution_count": 159,
   "id": "5b715bfe",
   "metadata": {},
   "outputs": [
    {
     "name": "stdout",
     "output_type": "stream",
     "text": [
      "Adult\n"
     ]
    }
   ],
   "source": [
    "age = 25\n",
    "\n",
    "if age < 18:\n",
    "    print(\"Minor\")\n",
    "elif age <= age < 65:\n",
    "    print(\"Adult\")\n",
    "else:\n",
    "    print(\"Senior Citizen\")     "
   ]
  },
  {
   "cell_type": "code",
   "execution_count": 160,
   "id": "cb15858d",
   "metadata": {},
   "outputs": [
    {
     "name": "stdout",
     "output_type": "stream",
     "text": [
      "Eligible for promotion\n"
     ]
    }
   ],
   "source": [
    "salary = 75000\n",
    "eperience = 5\n",
    "\n",
    "if salary > 50000 and eperience >= 5:\n",
    "    print(\"Eligible for promotion\")"
   ]
  },
  {
   "cell_type": "code",
   "execution_count": 162,
   "id": "9304fc25",
   "metadata": {},
   "outputs": [],
   "source": [
    "age = 30\n",
    "if age < 18:\n",
    "    print(\"Reject record: Underage\")\n",
    "                                                                                                                                                                                                                                                                                                                                                                                                                                                                                                                                                                                                                                                                                                                                                            "
   ]
  },
  {
   "cell_type": "code",
   "execution_count": 164,
   "id": "d881c764",
   "metadata": {},
   "outputs": [],
   "source": [
    "with open(\"data.txt\", \"w\") as f:\n",
    "    f.write(\"Hello, World!\")\n",
    "    f.write(\"Learning file handling in Python /n\")"
   ]
  },
  {
   "cell_type": "code",
   "execution_count": 168,
   "id": "bb4e0b5f",
   "metadata": {},
   "outputs": [
    {
     "ename": "FileNotFoundError",
     "evalue": "[Errno 2] No such file or directory: 'output.csv'",
     "output_type": "error",
     "traceback": [
      "\u001b[31m---------------------------------------------------------------------------\u001b[39m",
      "\u001b[31mFileNotFoundError\u001b[39m                         Traceback (most recent call last)",
      "\u001b[36mCell\u001b[39m\u001b[36m \u001b[39m\u001b[32mIn[168]\u001b[39m\u001b[32m, line 8\u001b[39m\n\u001b[32m      1\u001b[39m \u001b[38;5;28;01mimport\u001b[39;00m\u001b[38;5;250m \u001b[39m\u001b[34;01mcsv\u001b[39;00m\n\u001b[32m      3\u001b[39m raws = [\n\u001b[32m      4\u001b[39m     [\u001b[33m\"\u001b[39m\u001b[33mName\u001b[39m\u001b[33m\"\u001b[39m, \u001b[33m\"\u001b[39m\u001b[33mage\u001b[39m\u001b[33m\"\u001b[39m, \u001b[33m\"\u001b[39m\u001b[33mcity\u001b[39m\u001b[33m\"\u001b[39m],\n\u001b[32m      5\u001b[39m     [\u001b[33m\"\u001b[39m\u001b[33mYogender\u001b[39m\u001b[33m\"\u001b[39m, \u001b[32m28\u001b[39m, \u001b[33m\"\u001b[39m\u001b[33mMahendergarh\u001b[39m\u001b[33m\"\u001b[39m],\n\u001b[32m      6\u001b[39m     [\u001b[33m\"\u001b[39m\u001b[33mRiya\u001b[39m\u001b[33m\"\u001b[39m, \u001b[32m25\u001b[39m, \u001b[33m\"\u001b[39m\u001b[33mPune\u001b[39m\u001b[33m\"\u001b[39m]\n\u001b[32m      7\u001b[39m ]\n\u001b[32m----> \u001b[39m\u001b[32m8\u001b[39m \u001b[38;5;28;01mwith\u001b[39;00m \u001b[38;5;28;43mopen\u001b[39;49m\u001b[43m(\u001b[49m\u001b[33;43m\"\u001b[39;49m\u001b[33;43moutput.csv\u001b[39;49m\u001b[33;43m\"\u001b[39;49m\u001b[43m,\u001b[49m\u001b[43m \u001b[49m\u001b[33;43m\"\u001b[39;49m\u001b[33;43mr\u001b[39;49m\u001b[33;43m\"\u001b[39;49m\u001b[43m)\u001b[49m \u001b[38;5;28;01mas\u001b[39;00m file:\n\u001b[32m      9\u001b[39m     reader = csv.reader(file)\n\u001b[32m     10\u001b[39m \u001b[38;5;28;01mfor\u001b[39;00m row \u001b[38;5;129;01min\u001b[39;00m reader:\n",
      "\u001b[36mFile \u001b[39m\u001b[32m~/Desktop/python/.venv/lib/python3.13/site-packages/IPython/core/interactiveshell.py:343\u001b[39m, in \u001b[36m_modified_open\u001b[39m\u001b[34m(file, *args, **kwargs)\u001b[39m\n\u001b[32m    336\u001b[39m \u001b[38;5;28;01mif\u001b[39;00m file \u001b[38;5;129;01min\u001b[39;00m {\u001b[32m0\u001b[39m, \u001b[32m1\u001b[39m, \u001b[32m2\u001b[39m}:\n\u001b[32m    337\u001b[39m     \u001b[38;5;28;01mraise\u001b[39;00m \u001b[38;5;167;01mValueError\u001b[39;00m(\n\u001b[32m    338\u001b[39m         \u001b[33mf\u001b[39m\u001b[33m\"\u001b[39m\u001b[33mIPython won\u001b[39m\u001b[33m'\u001b[39m\u001b[33mt let you open fd=\u001b[39m\u001b[38;5;132;01m{\u001b[39;00mfile\u001b[38;5;132;01m}\u001b[39;00m\u001b[33m by default \u001b[39m\u001b[33m\"\u001b[39m\n\u001b[32m    339\u001b[39m         \u001b[33m\"\u001b[39m\u001b[33mas it is likely to crash IPython. If you know what you are doing, \u001b[39m\u001b[33m\"\u001b[39m\n\u001b[32m    340\u001b[39m         \u001b[33m\"\u001b[39m\u001b[33myou can use builtins\u001b[39m\u001b[33m'\u001b[39m\u001b[33m open.\u001b[39m\u001b[33m\"\u001b[39m\n\u001b[32m    341\u001b[39m     )\n\u001b[32m--> \u001b[39m\u001b[32m343\u001b[39m \u001b[38;5;28;01mreturn\u001b[39;00m \u001b[43mio_open\u001b[49m\u001b[43m(\u001b[49m\u001b[43mfile\u001b[49m\u001b[43m,\u001b[49m\u001b[43m \u001b[49m\u001b[43m*\u001b[49m\u001b[43margs\u001b[49m\u001b[43m,\u001b[49m\u001b[43m \u001b[49m\u001b[43m*\u001b[49m\u001b[43m*\u001b[49m\u001b[43mkwargs\u001b[49m\u001b[43m)\u001b[49m\n",
      "\u001b[31mFileNotFoundError\u001b[39m: [Errno 2] No such file or directory: 'output.csv'"
     ]
    }
   ],
   "source": [
    "import csv\n",
    "\n",
    "raws = [\n",
    "    [\"Name\", \"age\", \"city\"],\n",
    "    [\"Yogender\", 28, \"Mahendergarh\"],\n",
    "    [\"Riya\", 25, \"Pune\"]\n",
    "]\n",
    "with open(\"output.csv\", \"r\") as file:\n",
    "    reader = csv.reader(file)\n",
    "for row in reader:\n",
    "    print(row)"
   ]
  },
  {
   "cell_type": "code",
   "execution_count": null,
   "id": "9d8382c9",
   "metadata": {},
   "outputs": [],
   "source": []
  }
 ],
 "metadata": {
  "kernelspec": {
   "display_name": ".venv",
   "language": "python",
   "name": "python3"
  },
  "language_info": {
   "codemirror_mode": {
    "name": "ipython",
    "version": 3
   },
   "file_extension": ".py",
   "mimetype": "text/x-python",
   "name": "python",
   "nbconvert_exporter": "python",
   "pygments_lexer": "ipython3",
   "version": "3.13.7"
  }
 },
 "nbformat": 4,
 "nbformat_minor": 5
}
