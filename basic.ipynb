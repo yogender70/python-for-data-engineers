{
 "cells": [
  {
   "cell_type": "markdown",
   "id": "cdb9f2ee",
   "metadata": {},
   "source": [
    "### Running Print Statement"
   ]
  },
  {
   "cell_type": "code",
   "execution_count": null,
   "id": "ad9ea2a1",
   "metadata": {},
   "outputs": [],
   "source": [
    "print(\"Yogender\")"
   ]
  },
  {
   "cell_type": "code",
   "execution_count": null,
   "id": "571993c9",
   "metadata": {},
   "outputs": [],
   "source": [
    "print(\"this is example\")"
   ]
  },
  {
   "cell_type": "code",
   "execution_count": 3,
   "id": "cc359059",
   "metadata": {},
   "outputs": [],
   "source": [
    "x=10"
   ]
  },
  {
   "cell_type": "code",
   "execution_count": 15,
   "id": "8cced679",
   "metadata": {},
   "outputs": [
    {
     "name": "stdout",
     "output_type": "stream",
     "text": [
      "<class 'int'>\n"
     ]
    }
   ],
   "source": [
    "age = 30\n",
    "employees = 320\n",
    "print (type(age))"
   ]
  },
  {
   "cell_type": "code",
   "execution_count": 7,
   "id": "ec0cbd3d",
   "metadata": {},
   "outputs": [
    {
     "name": "stdout",
     "output_type": "stream",
     "text": [
      "<class 'float'>\n"
     ]
    }
   ],
   "source": [
    "price = 99.99\n",
    "tax_rate = 0.18\n",
    "print (type(price))"
   ]
  },
  {
   "cell_type": "code",
   "execution_count": 8,
   "id": "56d31d57",
   "metadata": {},
   "outputs": [
    {
     "name": "stdout",
     "output_type": "stream",
     "text": [
      "<class 'str'>\n"
     ]
    }
   ],
   "source": [
    "name = \"Yogender Kumar\"\n",
    "city = 'Mahendergarh'\n",
    "print(type(name))"
   ]
  },
  {
   "cell_type": "code",
   "execution_count": 10,
   "id": "2bd94cab",
   "metadata": {},
   "outputs": [
    {
     "name": "stdout",
     "output_type": "stream",
     "text": [
      "Hello Yogender Kumar\n"
     ]
    }
   ],
   "source": [
    "full_text = \"Hello \" + name\n",
    "print(full_text)"
   ]
  },
  {
   "cell_type": "code",
   "execution_count": 14,
   "id": "cd001738",
   "metadata": {},
   "outputs": [
    {
     "name": "stdout",
     "output_type": "stream",
     "text": [
      "My name is Yogender Kumar and I am 30 years old.\n"
     ]
    }
   ],
   "source": [
    "age = 30\n",
    "print(f\"My name is {name} and I am {age} years old.\")"
   ]
  },
  {
   "cell_type": "code",
   "execution_count": 16,
   "id": "99ee584a",
   "metadata": {},
   "outputs": [
    {
     "name": "stdout",
     "output_type": "stream",
     "text": [
      "<class 'bool'>\n"
     ]
    }
   ],
   "source": [
    "is_active = True\n",
    "is_admin = False\n",
    "print(type(is_active))"
   ]
  },
  {
   "cell_type": "code",
   "execution_count": 17,
   "id": "58c4255c",
   "metadata": {},
   "outputs": [
    {
     "name": "stdout",
     "output_type": "stream",
     "text": [
      "User is active\n"
     ]
    }
   ],
   "source": [
    "if is_active: \n",
    "    print(\"User is active\")\n",
    "else:\n",
    "    print(\"User is inactive\")"
   ]
  },
  {
   "cell_type": "code",
   "execution_count": 18,
   "id": "9dcd5efd",
   "metadata": {},
   "outputs": [],
   "source": [
    "x, y, z = 10, 20, 30\n",
    "a = b = c = 0"
   ]
  },
  {
   "cell_type": "code",
   "execution_count": 19,
   "id": "c68404fa",
   "metadata": {},
   "outputs": [],
   "source": [
    "x = \"100\"\n",
    "y = int(x)\n",
    "z = float(y)\n",
    "t = str(z)"
   ]
  },
  {
   "cell_type": "code",
   "execution_count": null,
   "id": "355f37a1",
   "metadata": {},
   "outputs": [
    {
     "name": "stdout",
     "output_type": "stream",
     "text": [
      "My name is Yogender Kumar and I am 30 years old.\n"
     ]
    }
   ],
   "source": [
    "name = \"Yogender Kumar\"\n",
    "age = 30\n",
    "salary = 11.8\n",
    "is_full_time = True\n",
    "\n",
    "print(f\"My name is {name} and I am {age} years old.\")"
   ]
  },
  {
   "cell_type": "code",
   "execution_count": 21,
   "id": "465a02ad",
   "metadata": {},
   "outputs": [
    {
     "name": "stdout",
     "output_type": "stream",
     "text": [
      "True\n",
      "False\n"
     ]
    }
   ],
   "source": [
    "a =5\n",
    "b =5\n",
    "c = 7\n",
    "print(a == b)\n",
    "print(a == c)"
   ]
  },
  {
   "cell_type": "code",
   "execution_count": 24,
   "id": "c50b1f75",
   "metadata": {},
   "outputs": [
    {
     "name": "stdout",
     "output_type": "stream",
     "text": [
      "<class 'str'>\n",
      "499.99\n",
      "My name is Ravi and my age is 28 and I am married is False. My hight is 5.75. I live in Mahendergarh District, India and my pincode is 123039\n"
     ]
    }
   ],
   "source": [
    "age = 28\n",
    "price = 499.99\n",
    "name = \"Ravi\"\n",
    "a = 5\n",
    "b = 7\n",
    "c = 123 \n",
    "C = int(c)\n",
    "is_married = False\n",
    "hight = 5.75\n",
    "age = str(age)\n",
    "x = y = z = 100\n",
    "city, country, pincode = \"Mahendergarh\", \"India\", 123039\n",
    "\n",
    "print (type(age))\n",
    "print(price)\n",
    "print(f\"My name is {name} and my age is {age} and I am married is {is_married}. My hight is {hight}. I live in {city} District, {country} and my pincode is {pincode}\")\n",
    "\n",
    "\n"
   ]
  },
  {
   "cell_type": "code",
   "execution_count": null,
   "id": "bc7d176d",
   "metadata": {},
   "outputs": [
    {
     "ename": "TypeError",
     "evalue": "can only concatenate str (not \"int\") to str",
     "output_type": "error",
     "traceback": [
      "\u001b[31m---------------------------------------------------------------------------\u001b[39m",
      "\u001b[31mTypeError\u001b[39m                                 Traceback (most recent call last)",
      "\u001b[36mCell\u001b[39m\u001b[36m \u001b[39m\u001b[32mIn[27]\u001b[39m\u001b[32m, line 4\u001b[39m\n\u001b[32m      1\u001b[39m x = \u001b[33m\"\u001b[39m\u001b[33m10\u001b[39m\u001b[33m\"\u001b[39m\n\u001b[32m      2\u001b[39m y = \u001b[32m5\u001b[39m\n\u001b[32m----> \u001b[39m\u001b[32m4\u001b[39m \u001b[38;5;28mprint\u001b[39m(\u001b[43mx\u001b[49m\u001b[43m+\u001b[49m\u001b[43my\u001b[49m)\n",
      "\u001b[31mTypeError\u001b[39m: can only concatenate str (not \"int\") to str"
     ]
    }
   ],
   "source": [
    "x = \"10\" #we need to remove double inberted commas if we have to resolve this issue\n",
    "y = 5\n",
    "\n",
    "print(x+y)"
   ]
  },
  {
   "cell_type": "code",
   "execution_count": 28,
   "id": "8aa14af4",
   "metadata": {},
   "outputs": [
    {
     "name": "stdout",
     "output_type": "stream",
     "text": [
      "10\n"
     ]
    }
   ],
   "source": [
    "float_number = 10.5\n",
    "float_number = int(float_number)\n",
    "\n",
    "print (float_number)"
   ]
  },
  {
   "cell_type": "code",
   "execution_count": null,
   "id": "2c9f174f",
   "metadata": {},
   "outputs": [
    {
     "name": "stdout",
     "output_type": "stream",
     "text": [
      "1\n"
     ]
    }
   ],
   "source": [
    "boolean_value = True\n",
    "integer_value = int(boolean_value)\n",
    "\n",
    "print(integer_value)"
   ]
  },
  {
   "cell_type": "code",
   "execution_count": 30,
   "id": "c536e101",
   "metadata": {},
   "outputs": [],
   "source": [
    "#when 0 is converted into boolean it will print false because 1 represents true and 0 represents false\n"
   ]
  },
  {
   "cell_type": "code",
   "execution_count": 31,
   "id": "e6fd0a24",
   "metadata": {},
   "outputs": [
    {
     "name": "stdout",
     "output_type": "stream",
     "text": [
      "True\n",
      "False\n"
     ]
    }
   ],
   "source": [
    "a = 10\n",
    "b = 10.0\n",
    "\n",
    "print(a==b)\n",
    "print(type(a)==type(b))"
   ]
  },
  {
   "cell_type": "code",
   "execution_count": null,
   "id": "e3d05792",
   "metadata": {},
   "outputs": [
    {
     "name": "stdout",
     "output_type": "stream",
     "text": [
      "13\n"
     ]
    }
   ],
   "source": [
    "sentence = \"python is fun\"\n",
    "\n",
    "#character_count = len(sentence)\n",
    "\n",
    "#print(character_count)\n",
    "\n",
    "print(len(sentence))\n"
   ]
  },
  {
   "cell_type": "code",
   "execution_count": 36,
   "id": "f09b8d5e",
   "metadata": {},
   "outputs": [
    {
     "name": "stdout",
     "output_type": "stream",
     "text": [
      "2.5\n"
     ]
    }
   ],
   "source": [
    "x, y = 5, 2\n",
    "\n",
    "print(x/y)"
   ]
  },
  {
   "cell_type": "code",
   "execution_count": 37,
   "id": "6fd1f9fb",
   "metadata": {},
   "outputs": [
    {
     "name": "stdout",
     "output_type": "stream",
     "text": [
      "The Price of one apple is 25.5 and the total for 4 apples is 102.0\n"
     ]
    }
   ],
   "source": [
    "apple_price = 25.5\n",
    "number_of_apples = 4\n",
    "\n",
    "print(f\"The Price of one apple is {apple_price} and the total for {number_of_apples} apples is {number_of_apples * apple_price}\")\n"
   ]
  },
  {
   "cell_type": "code",
   "execution_count": 38,
   "id": "a52b5522",
   "metadata": {},
   "outputs": [
    {
     "name": "stdout",
     "output_type": "stream",
     "text": [
      "ten\n"
     ]
    }
   ],
   "source": [
    "x = 10\n",
    "x = \"ten\"\n",
    "\n",
    "print (x)"
   ]
  },
  {
   "cell_type": "code",
   "execution_count": 39,
   "id": "7e6da4d7",
   "metadata": {},
   "outputs": [
    {
     "name": "stdout",
     "output_type": "stream",
     "text": [
      "56\n",
      "11\n"
     ]
    }
   ],
   "source": [
    "a = \"5\"\n",
    "b = \"6\"\n",
    "\n",
    "print(a + b)\n",
    "print (int(a) + int(b))"
   ]
  },
  {
   "cell_type": "code",
   "execution_count": null,
   "id": "6a9bd781",
   "metadata": {},
   "outputs": [],
   "source": []
  }
 ],
 "metadata": {
  "kernelspec": {
   "display_name": ".venv",
   "language": "python",
   "name": "python3"
  },
  "language_info": {
   "codemirror_mode": {
    "name": "ipython",
    "version": 3
   },
   "file_extension": ".py",
   "mimetype": "text/x-python",
   "name": "python",
   "nbconvert_exporter": "python",
   "pygments_lexer": "ipython3",
   "version": "3.13.7"
  }
 },
 "nbformat": 4,
 "nbformat_minor": 5
}
